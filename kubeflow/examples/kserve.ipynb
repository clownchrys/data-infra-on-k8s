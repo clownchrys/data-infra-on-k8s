{
 "cells": [
  {
   "cell_type": "code",
   "execution_count": 16,
   "id": "1c57fcba-58d0-44bd-a69a-6663d3c686ca",
   "metadata": {},
   "outputs": [],
   "source": [
    "import kserve\n",
    "import requests"
   ]
  },
  {
   "cell_type": "code",
   "execution_count": 17,
   "id": "f58de9f9-3daa-419c-9026-eb75622575c5",
   "metadata": {},
   "outputs": [
    {
     "data": {
      "text/plain": [
       "<kserve.api.kserve_client.KServeClient at 0x7f116053fed0>"
      ]
     },
     "execution_count": 17,
     "metadata": {},
     "output_type": "execute_result"
    }
   ],
   "source": [
    "client = kserve.KServeClient()\n",
    "client"
   ]
  },
  {
   "cell_type": "code",
   "execution_count": 37,
   "id": "0ba2dd64-c99e-471e-a01b-21b363be112b",
   "metadata": {},
   "outputs": [
    {
     "name": "stdout",
     "output_type": "stream",
     "text": [
      "http://sklearn-iris.kubeflow-admin-space.svc.cluster.local\n",
      "{\"predictions\":[1,1]}\n"
     ]
    }
   ],
   "source": [
    "isvc = client.get(\"sklearn-iris\", \"kubeflow-admin-space\")\n",
    "url = isvc['status']['address']['url']\n",
    "\n",
    "print(url)\n",
    "\n",
    "inference_input = {\n",
    "  'instances': [\n",
    "    [6.8,  2.8,  4.8,  1.4],\n",
    "    [6.0,  3.4,  4.5,  1.6]\n",
    "  ]\n",
    "}\n",
    "\n",
    "response = requests.post(url + \"/v1/models/sklearn-iris:predict\", json=inference_input)\n",
    "print(response.text)"
   ]
  }
 ],
 "metadata": {
  "kernelspec": {
   "display_name": "Python 3 (ipykernel)",
   "language": "python",
   "name": "python3"
  },
  "language_info": {
   "codemirror_mode": {
    "name": "ipython",
    "version": 3
   },
   "file_extension": ".py",
   "mimetype": "text/x-python",
   "name": "python",
   "nbconvert_exporter": "python",
   "pygments_lexer": "ipython3",
   "version": "3.11.9"
  }
 },
 "nbformat": 4,
 "nbformat_minor": 5
}
