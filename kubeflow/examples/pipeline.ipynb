{
 "cells": [
  {
   "cell_type": "code",
   "execution_count": 60,
   "id": "0c41e223-e578-4630-a363-030c882f5547",
   "metadata": {},
   "outputs": [],
   "source": [
    "import requests\n",
    "\n",
    "class TokenIssuer:\n",
    "    _access_token = None\n",
    "\n",
    "    @classmethod\n",
    "    def get_token(cls):\n",
    "        if cls._access_token is None:\n",
    "            cls.generate_token()\n",
    "        return cls._access_token\n",
    "\n",
    "    @classmethod\n",
    "    def generate_token(cls):\n",
    "        response = requests.post(\n",
    "            \"https://keycloak.clownchrys.link/realms/default/protocol/openid-connect/token\",\n",
    "            data={\n",
    "                \"client_id\": \"kubeflow-oidc-authservice\",\n",
    "                \"client_secret\": \"SM7BlsEB0DZW6noQsgcZRw==\",\n",
    "                \"username\": \"admin\",\n",
    "                \"password\": \"thisisauthorized\",\n",
    "                \"grant_type\": \"password\"\n",
    "            }\n",
    "        ).json()\n",
    "        cls._access_token = response[\"access_token\"]"
   ]
  },
  {
   "cell_type": "markdown",
   "id": "dbe5414f-4db2-4824-b1d8-87dba3096a4b",
   "metadata": {},
   "source": [
    "# Example 1"
   ]
  },
  {
   "cell_type": "code",
   "execution_count": 1,
   "id": "beebb279-20f8-483d-b860-f062dbc0a901",
   "metadata": {},
   "outputs": [
    {
     "name": "stderr",
     "output_type": "stream",
     "text": [
      "/opt/conda/lib/python3.11/site-packages/kfp/dsl/component_decorator.py:119: FutureWarning: Python 3.7 has reached end-of-life. The default base_image used by the @dsl.component decorator will switch from 'python:3.7' to 'python:3.8' on April 23, 2024. To ensure your existing components work with versions of the KFP SDK released after that date, you should provide an explicit base_image argument and ensure your component works as intended on Python 3.8.\n",
      "  return component_factory.create_component_from_func(\n"
     ]
    }
   ],
   "source": [
    "# Python 함수를 Component 로 바꿔주는 함수\n",
    "# decorator 로도 사용할 수 있으며, 여러 옵션을 argument 로 설정할 수 있음\n",
    "# add_op = create_component_from_func(\n",
    "#                 func=add,\n",
    "#                 base_image='python:3.7', # Optional : component 는 k8s pod 로 생성되며, 해당 pod 의 image 를 설정\n",
    "#                 output_component_file='add.component.yaml', # Optional : component 도 yaml 로 compile 하여 재사용하기 쉽게 관리 가능\n",
    "#                 packages_to_install=['pandas==0.24'], # Optional : base image 에는 없지만, python code 의 의존성 패키지가 있으면 component 생성 시 추가 가능\n",
    "#             )\n",
    "# from kfp.components import create_component_from_func\n",
    "\n",
    "from kfp import dsl\n",
    "\n",
    "\"\"\"\n",
    "kfp.components.create_component_from_func :\n",
    "    Python 함수를 Component 로 바꿔주는 함수\n",
    "    decorator 로도 사용할 수 있으며, 여러 옵션을 argument 로 설정할 수 있음\n",
    "    \n",
    "    add_op = create_component_from_func(\n",
    "                func=add,\n",
    "                base_image='python:3.7', # Optional : component 는 k8s pod 로 생성되며, 해당 pod 의 image 를 설정\n",
    "                output_component_file='add.component.yaml', # Optional : component 도 yaml 로 compile 하여 재사용하기 쉽게 관리 가능\n",
    "                packages_to_install=['pandas==0.24'], # Optional : base image 에는 없지만, python code 의 의존성 패키지가 있으면 component 생성 시 추가 가능\n",
    "            )\n",
    "\"\"\"\n",
    "\n",
    "\n",
    "def add(value_1: int, value_2: int) -> int:\n",
    "    \"\"\"\n",
    "    더하기\n",
    "    \"\"\"\n",
    "    ret = value_1 + value_2\n",
    "    return ret\n",
    "\n",
    "\n",
    "def subtract(value_1: int, value_2: int) -> int:\n",
    "    \"\"\"\n",
    "    빼기\n",
    "    \"\"\"\n",
    "    ret = value_1 - value_2\n",
    "    return ret\n",
    "\n",
    "\n",
    "def multiply(value_1: int, value_2: int) -> int:\n",
    "    \"\"\"\n",
    "    곱하기\n",
    "    \"\"\"\n",
    "    ret = value_1 * value_2\n",
    "    return ret\n",
    "\n",
    "\n",
    "# Python 함수를 선언한 후, kfp.components.create_component_from_func 를 사용하여\n",
    "# ContainerOp 타입(component)으로 convert\n",
    "# add_op = create_component_from_func(add)\n",
    "# subtract_op = create_component_from_func(subtract)\n",
    "# multiply_op = create_component_from_func(multiply)\n",
    "add_op = dsl.component(add)\n",
    "subtract_op = dsl.component(subtract)\n",
    "multiply_op = dsl.component(multiply)\n",
    "\n",
    "from kfp.dsl import pipeline\n",
    "\n",
    "\n",
    "@pipeline(name=\"add example\")\n",
    "def my_pipeline(value_1: int, value_2: int):\n",
    "    task_1 = add_op(value_1=value_1, value_2=value_2)\n",
    "    task_2 = subtract_op(value_1=value_1, value_2=value_2)\n",
    "\n",
    "    # component 간의 data 를 넘기고 싶다면,\n",
    "    # output -> input 으로 연결하면 DAG 상에서 연결됨\n",
    "\n",
    "    # compile 된 pipeline.yaml 의 dag 파트의 dependency 부분 확인\n",
    "    # uploaded pipeline 의 그래프 확인\n",
    "    task_3 = multiply_op(value_1=task_1.output, value_2=task_2.output)"
   ]
  },
  {
   "cell_type": "code",
   "execution_count": 4,
   "id": "74d23be3-b68d-45fe-b04c-61a3a3bb2426",
   "metadata": {},
   "outputs": [],
   "source": [
    "import kfp\n",
    "\n",
    "# kfp dsl compile --py test.py --output pipeline_test.yaml\n",
    "kfp.compiler.Compiler().compile(my_pipeline, \"pipeline_test.yaml\")"
   ]
  },
  {
   "cell_type": "code",
   "execution_count": 32,
   "id": "e9c3d66b-c3d1-4c95-8ef3-4f1c045f9583",
   "metadata": {},
   "outputs": [
    {
     "data": {
      "text/plain": [
       "<kfp.client.client.Client at 0x7efe48c2f310>"
      ]
     },
     "execution_count": 32,
     "metadata": {},
     "output_type": "execute_result"
    }
   ],
   "source": [
    "client = kfp.Client(\n",
    "    host=\"http://ml-pipeline.kubeflow.svc.cluster.local:8888\",\n",
    "    verify_ssl=False,\n",
    "    existing_token=TokenIssuer.get_token()\n",
    ")\n",
    "client"
   ]
  },
  {
   "cell_type": "code",
   "execution_count": 40,
   "id": "cf6b0fcc-0120-49c1-b779-675cea7641b9",
   "metadata": {},
   "outputs": [
    {
     "data": {
      "text/html": [
       "<a href=\"http://ml-pipeline.kubeflow.svc.cluster.local:8888/#/experiments/details/e8ad8cfb-6d37-4631-9e3a-e7cdf0c8c0cb\" target=\"_blank\" >Experiment details</a>."
      ],
      "text/plain": [
       "<IPython.core.display.HTML object>"
      ]
     },
     "metadata": {},
     "output_type": "display_data"
    },
    {
     "data": {
      "text/html": [
       "<a href=\"http://ml-pipeline.kubeflow.svc.cluster.local:8888/#/runs/details/cd25fd87-44ad-4c1b-a5d2-9ac820f6b727\" target=\"_blank\" >Run details</a>."
      ],
      "text/plain": [
       "<IPython.core.display.HTML object>"
      ]
     },
     "metadata": {},
     "output_type": "display_data"
    },
    {
     "data": {
      "text/plain": [
       "RunPipelineResult(run_id=cd25fd87-44ad-4c1b-a5d2-9ac820f6b727)"
      ]
     },
     "execution_count": 40,
     "metadata": {},
     "output_type": "execute_result"
    }
   ],
   "source": [
    "run = client.create_run_from_pipeline_func(my_pipeline, arguments={\"value_1\": 1, \"value_2\": 2})\n",
    "run"
   ]
  },
  {
   "cell_type": "code",
   "execution_count": null,
   "id": "7ded0d58-d9e3-4294-b003-c86293c59e12",
   "metadata": {},
   "outputs": [],
   "source": [
    "run.wait_for_run_completion()"
   ]
  },
  {
   "cell_type": "markdown",
   "id": "add3bc8b-8228-4c9f-85ce-7e16b4f9f59a",
   "metadata": {},
   "source": [
    "# Example 2"
   ]
  },
  {
   "cell_type": "code",
   "execution_count": 55,
   "id": "d541b9ff-6177-474c-ac2f-e043bf3912f1",
   "metadata": {},
   "outputs": [],
   "source": [
    "import kfp\n",
    "from kfp import dsl\n",
    "# from kfp.components import InputPath, OutputPath\n",
    "\n",
    "\n",
    "# decorator 사용\n",
    "# @create_component_from_func\n",
    "@dsl.component\n",
    "def write_file_op(\n",
    "    # _path 라는 suffix 를 붙이고, type annotaion 은 OutputPath 로 선언\n",
    "    data_output_path: dsl.OutputPath(dict)\n",
    "):\n",
    "    # package import 문은 함수 내부에 선언\n",
    "    import json\n",
    "\n",
    "    # dict data 선언\n",
    "    data = {\n",
    "        \"a\": 300,\n",
    "        \"b\": 10,\n",
    "    }\n",
    "\n",
    "    # file write to data_output_path\n",
    "    with open(data_output_path, \"w\") as f:\n",
    "        json.dump(data, f)\n",
    "\n",
    "\n",
    "# @create_component_from_func\n",
    "@dsl.component\n",
    "def read_file_and_multiply_op(\n",
    "    # input 역시, _path 라는 suffix 를 붙이고, type annotation 은 InputPath 로 선언\n",
    "    data_input_path: dsl.InputPath(dict)\n",
    ") -> float:\n",
    "    # package import 문은 함수 내부에 선언\n",
    "    import json\n",
    "\n",
    "    # file read to data_output_path\n",
    "    with open(data_input_path, \"r\") as f:\n",
    "        data = json.load(f)\n",
    "\n",
    "    # multiply\n",
    "    result = data[\"a\"] * data[\"b\"]\n",
    "\n",
    "    print(f\"Result: {result}\")\n",
    "\n",
    "    return result\n",
    "\n",
    "\n",
    "@kfp.dsl.pipeline(name=\"Data Passing by File Example\")\n",
    "def data_passing_file_pipeline():\n",
    "    write_file_task = write_file_op()\n",
    "    # _ = read_file_and_multiply_op(write_file_task.outputs[\"data_output\"])\n",
    "    _ = read_file_and_multiply_op(data_input_path=write_file_task.outputs[\"data_output_path\"])\n",
    "\n",
    "\n",
    "if __name__ == \"__main__\":\n",
    "    kfp.compiler.Compiler().compile(\n",
    "        data_passing_file_pipeline,\n",
    "        \"./data_passing_file_pipeline.yaml\"\n",
    "    )"
   ]
  },
  {
   "cell_type": "code",
   "execution_count": 57,
   "id": "de6103cf-ca86-4a88-b5d3-88eed557838d",
   "metadata": {},
   "outputs": [
    {
     "data": {
      "text/html": [
       "<a href=\"http://ml-pipeline.kubeflow.svc.cluster.local:8888/#/experiments/details/e8ad8cfb-6d37-4631-9e3a-e7cdf0c8c0cb\" target=\"_blank\" >Experiment details</a>."
      ],
      "text/plain": [
       "<IPython.core.display.HTML object>"
      ]
     },
     "metadata": {},
     "output_type": "display_data"
    },
    {
     "data": {
      "text/html": [
       "<a href=\"http://ml-pipeline.kubeflow.svc.cluster.local:8888/#/runs/details/4e4d9ebd-524a-4cec-9e2a-e6a352506784\" target=\"_blank\" >Run details</a>."
      ],
      "text/plain": [
       "<IPython.core.display.HTML object>"
      ]
     },
     "metadata": {},
     "output_type": "display_data"
    },
    {
     "data": {
      "text/plain": [
       "RunPipelineResult(run_id=4e4d9ebd-524a-4cec-9e2a-e6a352506784)"
      ]
     },
     "execution_count": 57,
     "metadata": {},
     "output_type": "execute_result"
    }
   ],
   "source": [
    "client = kfp.Client(\n",
    "    host=\"http://ml-pipeline.kubeflow.svc.cluster.local:8888\",\n",
    "    verify_ssl=False,\n",
    "    existing_token=TokenIssuer.get_token()\n",
    ")\n",
    "\n",
    "run = client.create_run_from_pipeline_func(data_passing_file_pipeline, arguments={})\n",
    "run"
   ]
  }
 ],
 "metadata": {
  "kernelspec": {
   "display_name": "Python 3 (ipykernel)",
   "language": "python",
   "name": "python3"
  },
  "language_info": {
   "codemirror_mode": {
    "name": "ipython",
    "version": 3
   },
   "file_extension": ".py",
   "mimetype": "text/x-python",
   "name": "python",
   "nbconvert_exporter": "python",
   "pygments_lexer": "ipython3",
   "version": "3.11.9"
  }
 },
 "nbformat": 4,
 "nbformat_minor": 5
}
