{
 "cells": [
  {
   "cell_type": "code",
   "execution_count": 1,
   "id": "beebb279-20f8-483d-b860-f062dbc0a901",
   "metadata": {},
   "outputs": [
    {
     "name": "stderr",
     "output_type": "stream",
     "text": [
      "/opt/conda/lib/python3.11/site-packages/kfp/dsl/component_decorator.py:119: FutureWarning: Python 3.7 has reached end-of-life. The default base_image used by the @dsl.component decorator will switch from 'python:3.7' to 'python:3.8' on April 23, 2024. To ensure your existing components work with versions of the KFP SDK released after that date, you should provide an explicit base_image argument and ensure your component works as intended on Python 3.8.\n",
      "  return component_factory.create_component_from_func(\n"
     ]
    }
   ],
   "source": [
    "# Python 함수를 Component 로 바꿔주는 함수\n",
    "# decorator 로도 사용할 수 있으며, 여러 옵션을 argument 로 설정할 수 있음\n",
    "# add_op = create_component_from_func(\n",
    "#                 func=add,\n",
    "#                 base_image='python:3.7', # Optional : component 는 k8s pod 로 생성되며, 해당 pod 의 image 를 설정\n",
    "#                 output_component_file='add.component.yaml', # Optional : component 도 yaml 로 compile 하여 재사용하기 쉽게 관리 가능\n",
    "#                 packages_to_install=['pandas==0.24'], # Optional : base image 에는 없지만, python code 의 의존성 패키지가 있으면 component 생성 시 추가 가능\n",
    "#             )\n",
    "# from kfp.components import create_component_from_func\n",
    "\n",
    "from kfp import dsl\n",
    "\n",
    "\"\"\"\n",
    "kfp.components.create_component_from_func :\n",
    "    Python 함수를 Component 로 바꿔주는 함수\n",
    "    decorator 로도 사용할 수 있으며, 여러 옵션을 argument 로 설정할 수 있음\n",
    "    \n",
    "    add_op = create_component_from_func(\n",
    "                func=add,\n",
    "                base_image='python:3.7', # Optional : component 는 k8s pod 로 생성되며, 해당 pod 의 image 를 설정\n",
    "                output_component_file='add.component.yaml', # Optional : component 도 yaml 로 compile 하여 재사용하기 쉽게 관리 가능\n",
    "                packages_to_install=['pandas==0.24'], # Optional : base image 에는 없지만, python code 의 의존성 패키지가 있으면 component 생성 시 추가 가능\n",
    "            )\n",
    "\"\"\"\n",
    "\n",
    "\n",
    "def add(value_1: int, value_2: int) -> int:\n",
    "    \"\"\"\n",
    "    더하기\n",
    "    \"\"\"\n",
    "    ret = value_1 + value_2\n",
    "    return ret\n",
    "\n",
    "\n",
    "def subtract(value_1: int, value_2: int) -> int:\n",
    "    \"\"\"\n",
    "    빼기\n",
    "    \"\"\"\n",
    "    ret = value_1 - value_2\n",
    "    return ret\n",
    "\n",
    "\n",
    "def multiply(value_1: int, value_2: int) -> int:\n",
    "    \"\"\"\n",
    "    곱하기\n",
    "    \"\"\"\n",
    "    ret = value_1 * value_2\n",
    "    return ret\n",
    "\n",
    "\n",
    "# Python 함수를 선언한 후, kfp.components.create_component_from_func 를 사용하여\n",
    "# ContainerOp 타입(component)으로 convert\n",
    "# add_op = create_component_from_func(add)\n",
    "# subtract_op = create_component_from_func(subtract)\n",
    "# multiply_op = create_component_from_func(multiply)\n",
    "add_op = dsl.component(add)\n",
    "subtract_op = dsl.component(subtract)\n",
    "multiply_op = dsl.component(multiply)\n",
    "\n",
    "from kfp.dsl import pipeline\n",
    "\n",
    "\n",
    "@pipeline(name=\"add example\")\n",
    "def my_pipeline(value_1: int, value_2: int):\n",
    "    task_1 = add_op(value_1=value_1, value_2=value_2)\n",
    "    task_2 = subtract_op(value_1=value_1, value_2=value_2)\n",
    "\n",
    "    # component 간의 data 를 넘기고 싶다면,\n",
    "    # output -> input 으로 연결하면 DAG 상에서 연결됨\n",
    "\n",
    "    # compile 된 pipeline.yaml 의 dag 파트의 dependency 부분 확인\n",
    "    # uploaded pipeline 의 그래프 확인\n",
    "    task_3 = multiply_op(value_1=task_1.output, value_2=task_2.output)"
   ]
  },
  {
   "cell_type": "code",
   "execution_count": 4,
   "id": "74d23be3-b68d-45fe-b04c-61a3a3bb2426",
   "metadata": {},
   "outputs": [],
   "source": [
    "import kfp\n",
    "\n",
    "# kfp dsl compile --py test.py --output pipeline_test.yaml\n",
    "kfp.compiler.Compiler().compile(my_pipeline, \"pipeline_test.yaml\")"
   ]
  },
  {
   "cell_type": "code",
   "execution_count": 31,
   "id": "9951d853-27ef-4341-bcb4-0e266ec6a464",
   "metadata": {},
   "outputs": [],
   "source": [
    "import requests\n",
    "\n",
    "response = requests.post(\n",
    "    \"https://keycloak.clownchrys.link/realms/default/protocol/openid-connect/token\",\n",
    "    data={\n",
    "        \"client_id\": \"kubeflow-oidc-authservice\",\n",
    "        \"client_secret\": \"SM7BlsEB0DZW6noQsgcZRw==\",\n",
    "        \"username\": \"admin\",\n",
    "        \"password\": \"thisisauthorized\",\n",
    "        \"grant_type\": \"password\"\n",
    "    }\n",
    ").json()"
   ]
  },
  {
   "cell_type": "code",
   "execution_count": 32,
   "id": "e9c3d66b-c3d1-4c95-8ef3-4f1c045f9583",
   "metadata": {},
   "outputs": [
    {
     "data": {
      "text/plain": [
       "<kfp.client.client.Client at 0x7efe48c2f310>"
      ]
     },
     "execution_count": 32,
     "metadata": {},
     "output_type": "execute_result"
    }
   ],
   "source": [
    "client = kfp.Client(\n",
    "    host=\"http://ml-pipeline.kubeflow.svc.cluster.local:8888\",\n",
    "    verify_ssl=False,\n",
    "    existing_token=response[\"access_token\"]\n",
    ")\n",
    "client"
   ]
  },
  {
   "cell_type": "code",
   "execution_count": 34,
   "id": "cf6b0fcc-0120-49c1-b779-675cea7641b9",
   "metadata": {},
   "outputs": [
    {
     "data": {
      "text/html": [
       "<a href=\"http://ml-pipeline.kubeflow.svc.cluster.local:8888/#/experiments/details/e8ad8cfb-6d37-4631-9e3a-e7cdf0c8c0cb\" target=\"_blank\" >Experiment details</a>."
      ],
      "text/plain": [
       "<IPython.core.display.HTML object>"
      ]
     },
     "metadata": {},
     "output_type": "display_data"
    },
    {
     "data": {
      "text/html": [
       "<a href=\"http://ml-pipeline.kubeflow.svc.cluster.local:8888/#/runs/details/48a94337-05d7-46cc-8bd4-965ac08def07\" target=\"_blank\" >Run details</a>."
      ],
      "text/plain": [
       "<IPython.core.display.HTML object>"
      ]
     },
     "metadata": {},
     "output_type": "display_data"
    },
    {
     "data": {
      "text/plain": [
       "RunPipelineResult(run_id=48a94337-05d7-46cc-8bd4-965ac08def07)"
      ]
     },
     "execution_count": 34,
     "metadata": {},
     "output_type": "execute_result"
    }
   ],
   "source": [
    "run = client.create_run_from_pipeline_func(my_pipeline, arguments={\"value_1\": 1, \"value_2\": 2})\n",
    "run"
   ]
  },
  {
   "cell_type": "code",
   "execution_count": null,
   "id": "d541b9ff-6177-474c-ac2f-e043bf3912f1",
   "metadata": {},
   "outputs": [],
   "source": []
  }
 ],
 "metadata": {
  "kernelspec": {
   "display_name": "Python 3 (ipykernel)",
   "language": "python",
   "name": "python3"
  },
  "language_info": {
   "codemirror_mode": {
    "name": "ipython",
    "version": 3
   },
   "file_extension": ".py",
   "mimetype": "text/x-python",
   "name": "python",
   "nbconvert_exporter": "python",
   "pygments_lexer": "ipython3",
   "version": "3.11.9"
  }
 },
 "nbformat": 4,
 "nbformat_minor": 5
}
